{
 "cells": [
  {
   "cell_type": "markdown",
   "id": "4e97b244-0c4b-4e63-afa9-07171a676598",
   "metadata": {},
   "source": [
    "Exercise 1: Create a 5X2 integer array from a range between 100 to 200 such that the difference between each element is 10\n"
   ]
  },
  {
   "cell_type": "code",
   "execution_count": 1,
   "id": "e00dfeb1-0e1a-428c-83de-e00d48d14246",
   "metadata": {},
   "outputs": [
    {
     "data": {
      "text/plain": [
       "array([[100, 110],\n",
       "       [120, 130],\n",
       "       [140, 150],\n",
       "       [160, 170],\n",
       "       [180, 190]])"
      ]
     },
     "execution_count": 1,
     "metadata": {},
     "output_type": "execute_result"
    }
   ],
   "source": [
    "import numpy as np\n",
    "a = np.array([[100, 110,], [120, 130] ,[140, 150], [160, 170], [180, 190]])\n",
    "a"
   ]
  },
  {
   "cell_type": "markdown",
   "id": "cab95d77-5bb1-4ce7-8bee-b88c030bd05b",
   "metadata": {},
   "source": [
    "Exercise 2: Following is the provided numPy array. return array of items in the third column from all rows\n",
    "sampleArray = numpy.array([[11 ,22, 33], [44, 55, 66], [77, 88, 99]])"
   ]
  },
  {
   "cell_type": "code",
   "execution_count": 2,
   "id": "1b221462-64df-48b2-a14e-f934f3abeec0",
   "metadata": {},
   "outputs": [
    {
     "data": {
      "text/plain": [
       "array([33, 66, 99])"
      ]
     },
     "execution_count": 2,
     "metadata": {},
     "output_type": "execute_result"
    }
   ],
   "source": [
    "import numpy\n",
    "sampleArray = numpy.array([[11 ,22, 33], [44, 55, 66], [77, 88, 99]])\n",
    "sampleArray[:,2]"
   ]
  },
  {
   "cell_type": "markdown",
   "id": "a831d25c-2ef1-439c-95be-b45fe5c46011",
   "metadata": {},
   "source": [
    "Exercise 3: Add the following two NumPy arrays and Modify a result array by calculating the square of each element\n",
    "\n",
    "\n",
    "arrayOne = numpy.array([[5, 6, 9], [21 ,18, 27]])\n",
    "arrayTwo = numpy.array([[15 ,33, 24], [4 ,7, 1]])\n"
   ]
  },
  {
   "cell_type": "code",
   "execution_count": 3,
   "id": "5644eefa-b8d9-4f87-a9c7-feed828f2a33",
   "metadata": {},
   "outputs": [
    {
     "data": {
      "text/plain": [
       "array([[20, 39, 33],\n",
       "       [25, 25, 28]])"
      ]
     },
     "execution_count": 3,
     "metadata": {},
     "output_type": "execute_result"
    }
   ],
   "source": [
    "import numpy\n",
    "arrayOne = numpy.array([[5, 6, 9], [21 ,18, 27]])\n",
    "arrayTwo = numpy.array([[15 ,33, 24], [4 ,7, 1]])\n",
    "\n",
    "add = arrayOne + arrayTwo\n",
    "add"
   ]
  },
  {
   "cell_type": "code",
   "execution_count": 14,
   "id": "49d20cc1-4f19-4ca2-9484-3dc96b757354",
   "metadata": {},
   "outputs": [
    {
     "data": {
      "text/plain": [
       "array([[ 400, 1521, 1089],\n",
       "       [ 625,  625,  784]], dtype=int32)"
      ]
     },
     "execution_count": 14,
     "metadata": {},
     "output_type": "execute_result"
    }
   ],
   "source": [
    "#suare of calulated array\n",
    "square = add **2\n",
    "square"
   ]
  },
  {
   "cell_type": "code",
   "execution_count": null,
   "id": "20ea8b75-2a18-4b8b-b39e-5ff3390f807d",
   "metadata": {},
   "outputs": [],
   "source": []
  }
 ],
 "metadata": {
  "kernelspec": {
   "display_name": "Python 3",
   "language": "python",
   "name": "python3"
  },
  "language_info": {
   "codemirror_mode": {
    "name": "ipython",
    "version": 3
   },
   "file_extension": ".py",
   "mimetype": "text/x-python",
   "name": "python",
   "nbconvert_exporter": "python",
   "pygments_lexer": "ipython3",
   "version": "3.8.5"
  }
 },
 "nbformat": 4,
 "nbformat_minor": 5
}
